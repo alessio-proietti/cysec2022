{
 "cells": [
  {
   "cell_type": "markdown",
   "id": "39915d4c",
   "metadata": {},
   "source": [
    "# HOMOMORPHIC\n",
    "## Alessio Proietti, Scienze Computazionali, Dip. di Matematica e Fisica Roma TRE\n",
    "\n",
    "### tesina del corso di Cybersecurity - Anno Accademico 2022-2023 - Laurea magistrale in Ing. Inf.\n",
    "<img alt=\"Logo RomaTRE\" src=\"https://www.uniroma3.it/wp-content/uploads/2017/02/logo-uniroma3.jpg\" width=30% height=30% title=\"Logo Roma TRE\"/>\n",
    "<img alt=\"Clouds\" src=\"./cloud.jpg\" width=30% height=30% title=\"Clouds\"/>"
   ]
  },
  {
   "cell_type": "markdown",
   "id": "9edaa76e",
   "metadata": {},
   "source": [
    "*Abstract*\n",
    "\n",
    "La ricerca sulla Crittografia Omomorfa si propone di sviluppare primitive in grado di eseguire funzioni su dati cifrati e restituire un output cifrato. Le prospettive di questo campo sono ambiziose e le applicazioni sono molteplici, tuttavia le sfide e le limitazioni delle varie proposte di schemi omomorfici descritte nella letteratura sono ben note e rigorose. Nel corso degli anni sono state introdotte diverse generazioni di schemi, ciascuna promettendo di risolvere i problemi della generazione precedente in termini di efficienza e di profondità dei circuiti risolvibili in modo omomorfico. Tuttavia lo sforzo ha contribuito a chiarire alcuni presupposti teorici che rendono possibili gli schemi proposti, essendo tutte le soluzioni di successo basate su generalizzazioni o varianti dello stessi problema matematico, che è il problema *LWE*.\n",
    "\n",
    "Le implementazioni di questi schemi non mancano, tuttavia spesso presentano incongruenze o incompletezze nonostante i notevoli sforzi di standardizzazione. Questo studio si concentra sul problema dell'esponenziazione modulare, in previsione di future applicazioni nella ricerca di protocolli per la firma digitale distribuita. Sono state valutate l'usabilità e i limiti di diverse librerie note che implementano schemi appartenenti a generazioni diverse, ma che fondamentalmente operano tutte su numeri interi."
   ]
  },
  {
   "cell_type": "markdown",
   "id": "7333144b",
   "metadata": {},
   "source": [
    "**Sommario**\n",
    "1. RSA Omomorfo\n",
    "2. TFHE e precursori\n",
    "3. Esperimenti in TFHE con lib TFHE-rs \n",
    "4. Esperimenti in BGV con lib SEAL-python\n",
    "5. Lavoro Futuro \n",
    "6. Conclusione\n",
    "7. Appendice\n",
    "8. Bibliografia\n"
   ]
  },
  {
   "cell_type": "markdown",
   "id": "f3ca222a",
   "metadata": {},
   "source": [
    "## 1. RSA Omomorfo \n",
    "\n",
    "RSA (Rivest–Shamir–Adleman) è un crittosistema a chiave asimmetrica descritto pubblicamente nel 1977 ma noto all'agenzia di intelligence britannica *GCHQ* dal 1973. È uno dei sistemi più diffusi in assoluto, le sue chiavi sono tipicamente a 2048 e 4096 bit e una delle sue applicazioni più note è nei certificati SSL nella sua forma di algoritmo di firma digitale. \n",
    "\n",
    "La sicurezza di RSA, ancorché mai dimostrata, si basa sulla difficoltà della fattorizzazione di interi che, nella sua versione decisionale, appartiene alla classe *NP* mentre non è opinione diffusa che sia anche *NP-complete* (non sono note dimostrazioni di questo fatto).\n",
    "\n",
    "L' operazione fondamentale dell' unico round di RSA è l' esponenziale modulare. È una operazione pesante per client limitati computazionalmente e pertanto potrebbe essere esternalizzata (e quindi la firma stessa di un messaggio) ad un provider di risorse computazionali remote. È essenziale che l' esponente non sia pubblico perché con esso un avversario può firmare qualsiasi messaggio desideri; pertanto, mentre è assolutamente necessario che sia cifrato l' esponente, questo non è richiesto per il messaggio stesso ma possiamo in una prima analisi richiedere che siano entrambi cifrati. Un algoritmo molto efficiente per l' esponenziazione in generale è l' algoritmo *square and multiply* (e varianti, tipo *Montgomery Powering Ladder*) e nel seguito analizzeremo solo questo.\n",
    "\n"
   ]
  },
  {
   "cell_type": "markdown",
   "id": "f0cf51fb",
   "metadata": {},
   "source": [
    "## 2. TFHE e Precursori\n",
    "Secondo Wikipedia [2] è possible rintracciare dei precursori alle generazioni, per così dire, canoniche di FHE (*Fully Homomorphic Encryption*) in una serie di crittosistemi classsici che esibiscono proprietà parziali di omomorficità in quanto il problema è ben noto sin dal 1978 [3]. È bene tuttavia considerare come punto di svolta nel campo il grande lavoro sui reticoli algebrici di Craig Gentry pubblicato nel 2009 [4]; egli introdusse una tecnica detta di *bootstrap* con la quale è possibile trasformare alcuni schemi (tipo il suo) che possono valutare solo polinomi di grado basso in schemi pienamente omomorfi che possono eseguire operazioni arbitrarie. \n",
    "\n",
    "Nel suo schema ogni operazione polinomiale sul cifrato introduce nel cifrato stesso rumore che alla fine (cioè dopo un numero di operazioni omomorfiche) sovrasta completamente il segnale nel cifrato e il messaggio originale viene perso. Il *boostrap* è in grado di rimuovere il rumore durante il calcolo ma è una operazione inefficiente e rende impraticabile l' operazione. \n",
    "\n",
    "Nella seconda generazione di schemi omomorfi (e ci concentriamo solo su quelli basati sul problema RLWE/LWE) spiccano BGV e BFV, i quali lavorano sui interi ed esibiscono lenta crescita del rumore la quale può essere ulteriormente gestita con l' approccio a livelli (infatti si dice che sono *levelled*). Sono noti tentativi matematici di *bootstrap* per BGV (ed BFV) [9][10] e, usando le library più di successo, si sono avanzate implementazioni ma quest' ultime non sono mai state rese pubbliche. Nel seguito ci concentreremo su BGV lavorando con un *wrapper* in python3 alla nota lib MS SEAL.\n",
    "\n",
    "\n",
    "Nella terza generazione il lavoro di GSW (Craig Gentry, Amit Sahai, and Brent Waters) ha introdotto nuove idee che hanno portato al fondamentale avanzamento in FHEW e TFHE. Nella quarta generazione è stato introdotto il calcolo sui reali con CKKS ed è lo schema prediletto e al momento migliore per valutare approssimazioni polinomiali.\n",
    "\n",
    "Ritornando alla terza generazione, TFHE (cioè DM/CGGI) è in grado di simulare NAND e la propria decifratura e questo lo rende universale per il calcolo di qualsiasi circuito in maniera cifrata a meno di *bootstrap* che tralaltro in questo cifrario è estremamente efficiente ed efficace nonché programmabile (*programmable bootstrap* consente di calcolare una funzione sul cifrario mentre si riduce il noise). TFHE (e la sua genesi da LWE) è perfettamente illustrato in una serie di blog post pubblicati da Zama (https://www.zama.ai/) sul loro sito [1].  \n",
    "\n",
    "TFHE-rs [11] è una libreria avanzata scritta in Rust, pubblicata da Zama e che permette di calcolare qualsiasi funzione (ci sono dei caveat) su interi e su bit. Useremo nel prossimo paragrafo TFHE-rs per provare a calcolare l' esponenziale modulare."
   ]
  },
  {
   "cell_type": "markdown",
   "id": "bcecacbc",
   "metadata": {},
   "source": [
    "## 3. Esperimenti in TFHE con TFHE-rs lib "
   ]
  },
  {
   "cell_type": "code",
   "execution_count": null,
   "id": "26a37794",
   "metadata": {},
   "outputs": [],
   "source": [
    "// p = 13\n",
    "// q = 17\n",
    "// n = 17 * 13 = 221 \n",
    "// lcm(p-1, q-1) = 48\n",
    "// e = 5\n",
    "// d = 29\n",
    "// de = 1 mod 48"
   ]
  },
  {
   "cell_type": "code",
   "execution_count": 2,
   "id": "142483df",
   "metadata": {},
   "outputs": [],
   "source": [
    ":dep tfhe = { version = \"0.2.4\", features = [ \"boolean\", \"shortint\", \"integer\", \"x86_64-unix\" ] }"
   ]
  },
  {
   "cell_type": "code",
   "execution_count": 3,
   "id": "10950dc4",
   "metadata": {},
   "outputs": [],
   "source": [
    "use tfhe::{ConfigBuilder, generate_keys, set_server_key, FheUint8};\n",
    "use tfhe::prelude::*;\n",
    "use std::u64;\n",
    "use std::time::{Duration, Instant};"
   ]
  },
  {
   "cell_type": "code",
   "execution_count": null,
   "id": "445400f3",
   "metadata": {},
   "outputs": [],
   "source": [
    "fn square_and_multiply(base:u64, exponent :u64, modulus: u64) -> u64 {\n",
    "\n",
    "    if exponent == 0 {\n",
    "        return base;\n",
    "    }\n",
    "\n",
    "    let mut z = 1;\n",
    "    let mut b = base % modulus;\n",
    "    let mut e = exponent;\n",
    "\n",
    "    for _i in 0..exponent-1 {\n",
    "        if e %2 == 1 {\n",
    "            z = (z*b) % modulus;\n",
    "        }\n",
    "\n",
    "        e=e >> 1;\n",
    "        b = (b*b)% modulus;\n",
    "    }\n",
    "\n",
    "    return z;\n",
    "}"
   ]
  },
  {
   "cell_type": "code",
   "execution_count": 25,
   "id": "f0246180",
   "metadata": {},
   "outputs": [],
   "source": [
    "fn main() {\n",
    "    let config = ConfigBuilder::all_disabled()\n",
    "        .enable_default_uint8()\n",
    "        .build();\n",
    "\n",
    "    let start = Instant::now();\n",
    "\n",
    "    // Client-side\n",
    "    let (client_key, server_key) = generate_keys(config);\n",
    "    \n",
    "    let key_generation_time: Duration = start.elapsed();\n",
    "\n",
    "\n",
    "    let clear_e = 29u8; // esponente segreto aka chiave\n",
    "    let m = 42u8; // il messaggio da firmare, è in CHIARO!\n",
    "    let n = 221u8; // il modulo, fa parte della chiave pubblica.\n",
    "\n",
    "    // cifro la chiave\n",
    "    let e = FheUint8::encrypt(clear_e, &client_key);\n",
    "    \n",
    "\n",
    "    let mod_pow = |value: u64| {\n",
    "        square_and_multiply(m.into(), value, n.into()) as u64\n",
    "    };\n",
    "\n",
    "    //Server-side\n",
    "    set_server_key(server_key);\n",
    "    \n",
    "    // map applica TFHE programmable bootstrapping.\n",
    "    // Call it magic!\n",
    "    let result = e.map(mod_pow);\n",
    "    let sqmul_time: Duration = start.elapsed();\n",
    "\n",
    "\n",
    "    //Client-side\n",
    "    let decrypted_result: u8 = result.decrypt(&client_key);\n",
    "\n",
    "    print!(\"key generation: {:?}, square multiply/programmable bootstrapping: {:?}\", key_generation_time, sqmul_time-key_generation_time);\n",
    "    \n",
    "    //42^29 mod 221 = 9 mod 221\n",
    "    assert_eq!(decrypted_result, 9);"
   ]
  },
  {
   "cell_type": "code",
   "execution_count": 26,
   "id": "0257cb17",
   "metadata": {},
   "outputs": [
    {
     "ename": "Error",
     "evalue": "Subprocess terminated with status: signal: 9 (SIGKILL)",
     "output_type": "error",
     "traceback": [
      "Subprocess terminated with status: signal: 9 (SIGKILL)"
     ]
    }
   ],
   "source": [
    "main();\n",
    "//key generation: 216.999534608s, square multiply/programmable bootstrapping: 269.832381243s"
   ]
  },
  {
   "cell_type": "markdown",
   "id": "6ac7c5ce",
   "metadata": {},
   "source": [
    "## 4. Esperimenti in BGV con SEAL-python lib"
   ]
  },
  {
   "cell_type": "code",
   "execution_count": 1,
   "id": "89880aad",
   "metadata": {},
   "outputs": [],
   "source": [
    "from seal import *"
   ]
  },
  {
   "cell_type": "markdown",
   "id": "033dd1a1",
   "metadata": {},
   "source": [
    "## 5. Lavoro Futuro \n",
    "Non sono state esaminate le performance e l' usabilità o l' API di HElib [5] che è una lib scritta in C++ e che implementa CKKS (*bootstrapped*) e BGV, inoltre non è noto all' autore su HElib offra BGV con *bootstrap*.\n",
    "Un' altra library molto promettente, scritta in GO, è lattigo. Lattigo, che fu inzialmente sviluppata da EPFL Laboratory for Data Security e il cui sviluppo è successivamente passato di mano a https://tuneinsight.com/, offre *multiparty homomorphic encryption* basato su reticoli e in particolare implementa CKKS (cioè aritmetica sui reali) e BGV/BFV. \n",
    "\n",
    "Di fondamentale importanza è Openfhe [8] che ha come obbiettivo quello di implementare i futuri standard di crittografia omomorfica post-quantum, sarebbe interessante esplorarne le applicazioni per la firma distribuita.\n"
   ]
  },
  {
   "cell_type": "markdown",
   "id": "d5b03bde",
   "metadata": {},
   "source": [
    "## 6. Conclusione\n",
    "Poiché TFHE-rs supporta il tipo booleano allora sarebbe buono implementare hash etc..."
   ]
  },
  {
   "cell_type": "markdown",
   "id": "9f74defa",
   "metadata": {},
   "source": [
    "## 7. Appendice"
   ]
  },
  {
   "cell_type": "markdown",
   "id": "caab2848",
   "metadata": {},
   "source": [
    "## 8. Bibliografia\n",
    "1. Ilaria Chillotti. TFHE Deep Dive. https://www.zama.ai/post/tfhe-deep-dive-part-1\n",
    "2. Various authors. Homomorphic encryption. https://en.wikipedia.org/wiki/Homomorphic_encryption\n",
    "3. R. L. Rivest, L. Adleman, and M. L. Dertouzos. On data banks and privacy homomorphisms. In Foundations of Secure Computation, 1978.\n",
    "4. Craig Gentry. Fully Homomorphic Encryption Using Ideal Lattices. In the 41st ACM Symposium on Theory of Computing (STOC), 2009.\n",
    "5. HElib. https://homenc.github.io/HElib/\n",
    "6. MS SEAL. https://www.microsoft.com/en-us/research/project/microsoft-seal/\n",
    "7. Lattigo. https://github.com/tuneinsight/lattigo\n",
    "8. Openfhe. https://www.openfhe.org/\n",
    "9. Geelen, R., Vercauteren, F. Bootstrapping for BGV and BFV Revisited. J Cryptol 36, 12 (2023). https://doi.org/10.1007/s00145-023-09454-6\n",
    "10. Ahmad Al Badawi, & Yuriy Polyakov. (2023). Demystifying Bootstrapping in Fully Homomorphic Encryption.https://eprint.iacr.org/2023/149 .\n",
    "11. TFHE-rs. https://github.com/zama-ai/tfhe-rs\n"
   ]
  }
 ],
 "metadata": {
  "kernelspec": {
   "display_name": "Rust",
   "language": "rust",
   "name": "rust"
  },
  "language_info": {
   "codemirror_mode": "rust",
   "file_extension": ".rs",
   "mimetype": "text/rust",
   "name": "Rust",
   "pygment_lexer": "rust",
   "version": ""
  }
 },
 "nbformat": 4,
 "nbformat_minor": 5
}
